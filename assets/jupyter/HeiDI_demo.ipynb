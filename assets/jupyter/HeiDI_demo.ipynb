{
 "cells": [
  {
   "cell_type": "code",
   "execution_count": 1,
   "id": "d0b84a47",
   "metadata": {
    "include": false,
    "vscode": {
     "languageId": "r"
    }
   },
   "outputs": [],
   "source": [
    "knitr::opts_chunk$set(fig.align='center')"
   ]
  },
  {
   "cell_type": "markdown",
   "id": "a49f8d95",
   "metadata": {},
   "source": [
    "HeiDI is <a href=\"https://psycnet.apa.org/record/2020-24823-001\" target=\"blank\">a recent model</a> developed by Rob Honey, Dom Dwyer and their student, Adela Iliescu. The model has a fairly simple (R-W) architecture, however, it has forward and backward associations. In addition, it has an \"expression\" side to it, as it includes combination rules that allow for transfer along stimulus chains. So, the model gets computationally expensive fairly quickly."
   ]
  },
  {
   "cell_type": "code",
   "execution_count": 2,
   "id": "bf74f387",
   "metadata": {
    "message": false,
    "vscode": {
     "languageId": "r"
    },
    "warning": false
   },
   "outputs": [
    {
     "name": "stderr",
     "output_type": "stream",
     "text": [
      "Loading required package: tidyverse\n",
      "\n",
      "Warning message:\n",
      "\"package 'tidyverse' was built under R version 4.2.3\"\n",
      "Warning message:\n",
      "\"package 'ggplot2' was built under R version 4.2.3\"\n",
      "Warning message:\n",
      "\"package 'tibble' was built under R version 4.2.3\"\n",
      "Warning message:\n",
      "\"package 'tidyr' was built under R version 4.2.3\"\n",
      "Warning message:\n",
      "\"package 'readr' was built under R version 4.2.3\"\n",
      "Warning message:\n",
      "\"package 'purrr' was built under R version 4.2.3\"\n",
      "Warning message:\n",
      "\"package 'dplyr' was built under R version 4.2.3\"\n",
      "Warning message:\n",
      "\"package 'stringr' was built under R version 4.2.3\"\n",
      "Warning message:\n",
      "\"package 'forcats' was built under R version 4.2.3\"\n",
      "Warning message:\n",
      "\"package 'lubridate' was built under R version 4.2.3\"\n",
      "── \u001b[1mAttaching core tidyverse packages\u001b[22m ──────────────────────── tidyverse 2.0.0 ──\n",
      "\u001b[32m✔\u001b[39m \u001b[34mdplyr    \u001b[39m 1.1.3     \u001b[32m✔\u001b[39m \u001b[34mreadr    \u001b[39m 2.1.4\n",
      "\u001b[32m✔\u001b[39m \u001b[34mforcats  \u001b[39m 1.0.0     \u001b[32m✔\u001b[39m \u001b[34mstringr  \u001b[39m 1.5.0\n",
      "\u001b[32m✔\u001b[39m \u001b[34mggplot2  \u001b[39m 3.4.4     \u001b[32m✔\u001b[39m \u001b[34mtibble   \u001b[39m 3.2.1\n",
      "\u001b[32m✔\u001b[39m \u001b[34mlubridate\u001b[39m 1.9.3     \u001b[32m✔\u001b[39m \u001b[34mtidyr    \u001b[39m 1.3.0\n",
      "\u001b[32m✔\u001b[39m \u001b[34mpurrr    \u001b[39m 1.0.2     \n",
      "── \u001b[1mConflicts\u001b[22m ────────────────────────────────────────── tidyverse_conflicts() ──\n",
      "\u001b[31m✖\u001b[39m \u001b[34mdplyr\u001b[39m::\u001b[32mfilter()\u001b[39m masks \u001b[34mstats\u001b[39m::filter()\n",
      "\u001b[31m✖\u001b[39m \u001b[34mdplyr\u001b[39m::\u001b[32mlag()\u001b[39m    masks \u001b[34mstats\u001b[39m::lag()\n",
      "\u001b[36mℹ\u001b[39m Use the conflicted package (\u001b[3m\u001b[34m<http://conflicted.r-lib.org/>\u001b[39m\u001b[23m) to force all conflicts to become errors\n",
      "Loading required package: patchwork\n",
      "\n",
      "Warning message:\n",
      "\"package 'patchwork' was built under R version 4.2.3\"\n",
      "Loading required package: truncnorm\n",
      "\n",
      "Warning message:\n",
      "\"package 'truncnorm' was built under R version 4.2.3\"\n"
     ]
    }
   ],
   "source": [
    "require(tidyverse)\n",
    "require(patchwork)\n",
    "require(truncnorm) #For sampling\n",
    "theme_set(theme_bw())"
   ]
  },
  {
   "cell_type": "markdown",
   "id": "20a95a10",
   "metadata": {},
   "source": [
    "# Simple excitatory acquisition\n",
    "\n",
    "To get up to speed, here's an implementation of the acquisition of a single excitatory association between two stimuli (A and B). First, stipulate the trials. Here let's assume that\n",
    "\n",
    "$$p(A|B) = p(B|A) = .8$$\n",
    "$$p(A|\\overline{B}) = .2$$\n",
    "$$p(B|\\overline{A}) = .3$$"
   ]
  },
  {
   "cell_type": "code",
   "execution_count": 3,
   "id": "4d813f91",
   "metadata": {
    "lines_to_next_cell": 0,
    "vscode": {
     "languageId": "r"
    }
   },
   "outputs": [
    {
     "data": {
      "text/html": [
       "<table class=\"dataframe\">\n",
       "<caption>A matrix: 6 × 2 of type dbl</caption>\n",
       "<tbody>\n",
       "\t<tr><th scope=row>AB</th><td>1</td><td>1</td></tr>\n",
       "\t<tr><th scope=row>AB</th><td>1</td><td>1</td></tr>\n",
       "\t<tr><th scope=row>AB</th><td>1</td><td>1</td></tr>\n",
       "\t<tr><th scope=row>A</th><td>1</td><td>0</td></tr>\n",
       "\t<tr><th scope=row>AB</th><td>1</td><td>1</td></tr>\n",
       "\t<tr><th scope=row>A</th><td>1</td><td>0</td></tr>\n",
       "</tbody>\n",
       "</table>\n"
      ],
      "text/latex": [
       "A matrix: 6 × 2 of type dbl\n",
       "\\begin{tabular}{r|ll}\n",
       "\tAB & 1 & 1\\\\\n",
       "\tAB & 1 & 1\\\\\n",
       "\tAB & 1 & 1\\\\\n",
       "\tA & 1 & 0\\\\\n",
       "\tAB & 1 & 1\\\\\n",
       "\tA & 1 & 0\\\\\n",
       "\\end{tabular}\n"
      ],
      "text/markdown": [
       "\n",
       "A matrix: 6 × 2 of type dbl\n",
       "\n",
       "| AB | 1 | 1 |\n",
       "| AB | 1 | 1 |\n",
       "| AB | 1 | 1 |\n",
       "| A | 1 | 0 |\n",
       "| AB | 1 | 1 |\n",
       "| A | 1 | 0 |\n",
       "\n"
      ],
      "text/plain": [
       "   [,1] [,2]\n",
       "AB 1    1   \n",
       "AB 1    1   \n",
       "AB 1    1   \n",
       "A  1    0   \n",
       "AB 1    1   \n",
       "A  1    0   "
      ]
     },
     "metadata": {},
     "output_type": "display_data"
    }
   ],
   "source": [
    "trialmat <- rbind(c(1, 1),\n",
    "                  c(1, 0),\n",
    "                  c(0, 1))\n",
    "rownames(trialmat) <- c('AB', 'A', 'B')\n",
    "#And sample a training regime\n",
    "set.seed(1) #reproducibility\n",
    "trials <- sample(1:3, size = 40, replace = T, prob = c(.8, .2, .3))\n",
    "head(trialmat[trials, ])\n"
   ]
  },
  {
   "cell_type": "markdown",
   "id": "c935d779",
   "metadata": {},
   "source": [
    "We now have to come up with parameters for the stimuli. Saliency parameters ($\\alpha$ and $\\beta$ for CSs and USs, respectively) are bounded in the model. We can express them as being sampled from the following distributions.\n",
    "\n",
    "$$\\alpha \\sim Normal(\\mu, \\sigma)_{[0, +\\infty]}$$\n",
    "$$\\beta \\sim Normal(\\mu, \\sigma)_{[-\\infty, 1]}$$\n",
    "\n",
    "Where the brackets indicate a truncation along that range, $\\mu$ is the mean of each parameter, and $\\sigma$ its standard deviation (notation simplified for convenience). I am not very clear on the truncation range for $\\beta$, but not an issue. Sampling statements like this would allow us to estimate population and group parameters. Let's sample the parameters assuming that both stimuli are CSs."
   ]
  },
  {
   "cell_type": "code",
   "execution_count": 4,
   "id": "5b417671",
   "metadata": {
    "lines_to_next_cell": 0,
    "vscode": {
     "languageId": "r"
    }
   },
   "outputs": [
    {
     "data": {
      "text/html": [
       "<style>\n",
       ".list-inline {list-style: none; margin:0; padding: 0}\n",
       ".list-inline>li {display: inline-block}\n",
       ".list-inline>li:not(:last-child)::after {content: \"\\00b7\"; padding: 0 .5ex}\n",
       "</style>\n",
       "<ol class=list-inline><li>0.391897737160822</li><li>0.578213630073107</li></ol>\n"
      ],
      "text/latex": [
       "\\begin{enumerate*}\n",
       "\\item 0.391897737160822\n",
       "\\item 0.578213630073107\n",
       "\\end{enumerate*}\n"
      ],
      "text/markdown": [
       "1. 0.391897737160822\n",
       "2. 0.578213630073107\n",
       "\n",
       "\n"
      ],
      "text/plain": [
       "[1] 0.3918977 0.5782136"
      ]
     },
     "metadata": {},
     "output_type": "display_data"
    }
   ],
   "source": [
    "sals <- rtruncnorm(n = 2, mean = c(.3, .5), sd = c(.1, .1), a = 0, b = Inf)\n",
    "sals\n"
   ]
  },
  {
   "cell_type": "markdown",
   "id": "1e462d3e",
   "metadata": {},
   "source": [
    "Finally, the model also has a scaling constant that transforms these saliency parameters to asymptotic values (your typical $\\lambda$). For now, let's make them the inverse of the saliencies."
   ]
  },
  {
   "cell_type": "code",
   "execution_count": 5,
   "id": "156652e8",
   "metadata": {
    "vscode": {
     "languageId": "r"
    }
   },
   "outputs": [],
   "source": [
    "cons <- 1/sals"
   ]
  },
  {
   "cell_type": "markdown",
   "id": "7e70665b",
   "metadata": {},
   "source": [
    "And let's create a function that \"initiates a model\". Important for data-keeping purposes."
   ]
  },
  {
   "cell_type": "code",
   "execution_count": 6,
   "id": "4fa680e1",
   "metadata": {
    "vscode": {
     "languageId": "r"
    }
   },
   "outputs": [
    {
     "data": {
      "text/html": [
       "<table class=\"dataframe\">\n",
       "<caption>A matrix: 2 × 2 of type dbl</caption>\n",
       "<thead>\n",
       "\t<tr><th></th><th scope=col>A</th><th scope=col>B</th></tr>\n",
       "</thead>\n",
       "<tbody>\n",
       "\t<tr><th scope=row>A</th><td>0</td><td>0</td></tr>\n",
       "\t<tr><th scope=row>B</th><td>0</td><td>0</td></tr>\n",
       "</tbody>\n",
       "</table>\n"
      ],
      "text/latex": [
       "A matrix: 2 × 2 of type dbl\n",
       "\\begin{tabular}{r|ll}\n",
       "  & A & B\\\\\n",
       "\\hline\n",
       "\tA & 0 & 0\\\\\n",
       "\tB & 0 & 0\\\\\n",
       "\\end{tabular}\n"
      ],
      "text/markdown": [
       "\n",
       "A matrix: 2 × 2 of type dbl\n",
       "\n",
       "| <!--/--> | A | B |\n",
       "|---|---|---|\n",
       "| A | 0 | 0 |\n",
       "| B | 0 | 0 |\n",
       "\n"
      ],
      "text/plain": [
       "  A B\n",
       "A 0 0\n",
       "B 0 0"
      ]
     },
     "metadata": {},
     "output_type": "display_data"
    }
   ],
   "source": [
    "# A function that initializes the model weights\n",
    "genWeights <- function(stims, default_val = 0){\n",
    "  mat = matrix(default_val, ncol = length(stims), nrow = length(stims)) #perhaps a diagonal with 1s? Would accommodate self-association but increases model complexity.\n",
    "  rownames(mat) = stims\n",
    "  colnames(mat) = stims\n",
    "  return(mat)\n",
    "}\n",
    "w <- genWeights(stims = c(\"A\", \"B\")) #example\n",
    "w"
   ]
  },
  {
   "cell_type": "markdown",
   "id": "e5f07bc5",
   "metadata": {},
   "source": [
    "With all of that we can actually start learning. The default learning equation uses a pooled error term for the predicted stimuli. The activation of the representation of stimulus $k$, as predicted by $j$ is defined as:\n",
    "\n",
    "$$v_k = x_jw_{j,k}$$\n",
    "where $v_k$ is activation of stimulus $k$, $x_j$ denotes the activation of stimulus $j$ (simplified for now to be 0 or 1), and $w_{j,k}$ is the associative strength of the association $j→k$. To pool all stimuli on a trial, this expression reduces to: $v = xW$, where $W$ is a matrix containing all associative strengths.\n",
    "\n",
    "Each stimulus association is updated via:\n",
    "\n",
    "$$\\Delta w_{k,j} = \\alpha_jx_j(c_k\\alpha_k-v_k)$$\n",
    "Where $\\Delta w_{k,j}$ is the change in the kth, jth entry in the weight matrix $W$, $\\alpha_j$ is the salience of the predictor, $\\alpha_k$ is the salience of the stimulus being predicted, and $c_k$ is a constant mapping the saliency of predicted stimulus $k$ to its asymptote.\n",
    "\n",
    "The full matrix can be calculated in one go via:\n",
    "\n",
    "$$\\Delta W = (\\alpha \\odot x ) (c \\odot \\alpha - v)$$\n",
    "Where $\\odot$ denotes pointwise multiplication. However, if we do this, we must remember to zero out the diagonal of $\\Delta W$, because the model does not consider auto-association. (I wonder if they have explored this?)\n",
    "\n",
    "Here's the implementation of the function to train the model."
   ]
  },
  {
   "cell_type": "code",
   "execution_count": 7,
   "id": "00e74f37",
   "metadata": {
    "vscode": {
     "languageId": "r"
    }
   },
   "outputs": [],
   "source": [
    "trainHEIDI <- function(sals, cons, w, trials, trialmat){\n",
    "  dat = array(NA, dim = c(length(trials), dim(w)), \n",
    "              dimnames = list(NULL, rownames(w), rownames(w)))\n",
    "  for (t in 1:length(trials)){\n",
    "    x = trialmat[trials[t], ]\n",
    "    v = x%*%w #forward activation\n",
    "    error = (cons*sals*x)-v\n",
    "    #calculate deltas\n",
    "    deltaw = (sals*x)%*%error\n",
    "    #make diagonal 0\n",
    "    diag(deltaw) = 0\n",
    "    #learn\n",
    "    w = w+deltaw\n",
    "    #save data\n",
    "    dat[t, , ] = w\n",
    "  }\n",
    "  return(dat)\n",
    "}\n"
   ]
  },
  {
   "cell_type": "markdown",
   "id": "4e8ed7d6",
   "metadata": {},
   "source": [
    "With that, we can train the model and visualize the acquisition of each association."
   ]
  },
  {
   "cell_type": "code",
   "execution_count": 8,
   "id": "74b8cbf7",
   "metadata": {
    "vscode": {
     "languageId": "r"
    }
   },
   "outputs": [
    {
     "data": {
      "image/png": "[encoded data removed]",
      "text/plain": [
       "plot without title"
      ]
     },
     "metadata": {
      "image/png": {
       "height": 420,
       "width": 420
      }
     },
     "output_type": "display_data"
    }
   ],
   "source": [
    "data <- trainHEIDI(sals, cons, w = genWeights(c('A', 'B')), trials, trialmat)\n",
    "#The data is (t, s, s); t = trials, s = number of stimuli; it's the weight matrix across trials.\n",
    "#A simple function to parse the data\n",
    "parseW <- function(dat, trialmat, trials, stimnames = NA){\n",
    "  #dat is the array of weights returned by the trainHEIDI function\n",
    "  tname <- rownames(trialmat)\n",
    "  dat = enframe(apply(dat, 1, function(x) as.data.frame(as.table(x))), name = 'trial') %>% \n",
    "    mutate(trialtype = tname[trials]) %>% \n",
    "    unnest(value) %>% filter(Var1 != Var2) %>% rename(s1 = Var1, s2 = Var2, str = Freq)\n",
    "  return(dat)\n",
    "}\n",
    "\n",
    "#visualizing the evolution of the A>B and B>A associations\n",
    "datadf <- parseW(data, trialmat, trials)\n",
    "datadf %>% ggplot(aes(x = trial, y = str, colour = s1)) + \n",
    "  geom_line() + geom_point() + \n",
    "  geom_hline(yintercept = 0, linetype = 'dashed') + \n",
    "  coord_cartesian(ylim = c(-1, 1)) \n"
   ]
  },
  {
   "cell_type": "markdown",
   "id": "cfd73284",
   "metadata": {},
   "source": [
    "Note the big swings. Those trials carried a lot of error. Let's try running the model many times to get a better idea of the learning functions."
   ]
  },
  {
   "cell_type": "code",
   "execution_count": 9,
   "id": "6f94356d",
   "metadata": {
    "lines_to_next_cell": 0,
    "vscode": {
     "languageId": "r"
    }
   },
   "outputs": [
    {
     "data": {
      "image/png": "[encoded data removed]",
      "text/plain": [
       "plot without title"
      ]
     },
     "metadata": {
      "image/png": {
       "height": 420,
       "width": 420
      }
     },
     "output_type": "display_data"
    }
   ],
   "source": [
    "iterations <- 1000\n",
    "trialF <- function() sample(1:3, size = 40, replace = T, prob = c(.8, .2, .3))\n",
    "repdata <- replicate(iterations, trainHEIDI(sals, cons, w = genWeights(c('A', 'B')), trialF(), trialmat))\n",
    "repdata <- apply(repdata, c(1, 2, 3), 'mean') #averaging over dimensions\n",
    "\n",
    "#doesn't make much sense to use the trials argument in parseW, but still\n",
    "parseW(repdata, trialmat, trials) %>% ggplot(aes(x = trial, y = str, colour = s1)) + \n",
    "  geom_line() + geom_point() + \n",
    "  geom_hline(yintercept = 0, linetype = 'dashed') + \n",
    "  coord_cartesian(ylim = c(-1, 1)) \n"
   ]
  },
  {
   "cell_type": "markdown",
   "id": "6038c8a1",
   "metadata": {},
   "source": [
    "Easy enough.\n",
    "\n",
    "# Simple Pavlovian Inhibition\n",
    "\n",
    "Pick up some velocity by simulating Pavlovian Inhibition (A+/AB-). Create the trials:"
   ]
  },
  {
   "cell_type": "code",
   "execution_count": 10,
   "id": "23b35b18",
   "metadata": {
    "lines_to_next_cell": 0,
    "vscode": {
     "languageId": "r"
    }
   },
   "outputs": [
    {
     "data": {
      "text/html": [
       "<table class=\"dataframe\">\n",
       "<caption>A matrix: 6 × 3 of type dbl</caption>\n",
       "<tbody>\n",
       "\t<tr><th scope=row>AB-</th><td>1</td><td>1</td><td>0</td></tr>\n",
       "\t<tr><th scope=row>AB-</th><td>1</td><td>1</td><td>0</td></tr>\n",
       "\t<tr><th scope=row>A+</th><td>1</td><td>0</td><td>1</td></tr>\n",
       "\t<tr><th scope=row>A+</th><td>1</td><td>0</td><td>1</td></tr>\n",
       "\t<tr><th scope=row>AB-</th><td>1</td><td>1</td><td>0</td></tr>\n",
       "\t<tr><th scope=row>A+</th><td>1</td><td>0</td><td>1</td></tr>\n",
       "</tbody>\n",
       "</table>\n"
      ],
      "text/latex": [
       "A matrix: 6 × 3 of type dbl\n",
       "\\begin{tabular}{r|lll}\n",
       "\tAB- & 1 & 1 & 0\\\\\n",
       "\tAB- & 1 & 1 & 0\\\\\n",
       "\tA+ & 1 & 0 & 1\\\\\n",
       "\tA+ & 1 & 0 & 1\\\\\n",
       "\tAB- & 1 & 1 & 0\\\\\n",
       "\tA+ & 1 & 0 & 1\\\\\n",
       "\\end{tabular}\n"
      ],
      "text/markdown": [
       "\n",
       "A matrix: 6 × 3 of type dbl\n",
       "\n",
       "| AB- | 1 | 1 | 0 |\n",
       "| AB- | 1 | 1 | 0 |\n",
       "| A+ | 1 | 0 | 1 |\n",
       "| A+ | 1 | 0 | 1 |\n",
       "| AB- | 1 | 1 | 0 |\n",
       "| A+ | 1 | 0 | 1 |\n",
       "\n"
      ],
      "text/plain": [
       "    [,1] [,2] [,3]\n",
       "AB- 1    1    0   \n",
       "AB- 1    1    0   \n",
       "A+  1    0    1   \n",
       "A+  1    0    1   \n",
       "AB- 1    1    0   \n",
       "A+  1    0    1   "
      ]
     },
     "metadata": {},
     "output_type": "display_data"
    }
   ],
   "source": [
    "#Note that the third column is the US column.\n",
    "trialmat <- rbind(c(1, 0, 1),\n",
    "                  c(1, 1, 0))\n",
    "rownames(trialmat) <- c('A+', 'AB-')\n",
    "#And sample a training regime\n",
    "set.seed(1) #reproducibility\n",
    "trialF <- function() sample(1:2, size = 40, replace = T, prob = c(.5, .5))\n",
    "head(trialmat[trialF(), ])\n"
   ]
  },
  {
   "cell_type": "markdown",
   "id": "a7fa9532",
   "metadata": {},
   "source": [
    "We can reuse the previous code to train the model. And create a convenience function that replicates the training."
   ]
  },
  {
   "cell_type": "code",
   "execution_count": 11,
   "id": "16076415",
   "metadata": {
    "vscode": {
     "languageId": "r"
    }
   },
   "outputs": [
    {
     "data": {
      "text/html": [
       "<table class=\"dataframe\">\n",
       "<caption>A tibble: 6 × 5</caption>\n",
       "<thead>\n",
       "\t<tr><th scope=col>trial</th><th scope=col>s1</th><th scope=col>s2</th><th scope=col>str</th><th scope=col>trialtype</th></tr>\n",
       "\t<tr><th scope=col>&lt;int&gt;</th><th scope=col>&lt;fct&gt;</th><th scope=col>&lt;fct&gt;</th><th scope=col>&lt;dbl&gt;</th><th scope=col>&lt;chr&gt;</th></tr>\n",
       "</thead>\n",
       "<tbody>\n",
       "\t<tr><td>1</td><td>B </td><td>A </td><td>0.162</td><td>AB-</td></tr>\n",
       "\t<tr><td>1</td><td>US</td><td>A </td><td>0.276</td><td>AB-</td></tr>\n",
       "\t<tr><td>1</td><td>A </td><td>B </td><td>0.162</td><td>AB-</td></tr>\n",
       "\t<tr><td>1</td><td>US</td><td>B </td><td>0.000</td><td>AB-</td></tr>\n",
       "\t<tr><td>1</td><td>A </td><td>US</td><td>0.138</td><td>AB-</td></tr>\n",
       "\t<tr><td>1</td><td>B </td><td>US</td><td>0.000</td><td>AB-</td></tr>\n",
       "</tbody>\n",
       "</table>\n"
      ],
      "text/latex": [
       "A tibble: 6 × 5\n",
       "\\begin{tabular}{lllll}\n",
       " trial & s1 & s2 & str & trialtype\\\\\n",
       " <int> & <fct> & <fct> & <dbl> & <chr>\\\\\n",
       "\\hline\n",
       "\t 1 & B  & A  & 0.162 & AB-\\\\\n",
       "\t 1 & US & A  & 0.276 & AB-\\\\\n",
       "\t 1 & A  & B  & 0.162 & AB-\\\\\n",
       "\t 1 & US & B  & 0.000 & AB-\\\\\n",
       "\t 1 & A  & US & 0.138 & AB-\\\\\n",
       "\t 1 & B  & US & 0.000 & AB-\\\\\n",
       "\\end{tabular}\n"
      ],
      "text/markdown": [
       "\n",
       "A tibble: 6 × 5\n",
       "\n",
       "| trial &lt;int&gt; | s1 &lt;fct&gt; | s2 &lt;fct&gt; | str &lt;dbl&gt; | trialtype &lt;chr&gt; |\n",
       "|---|---|---|---|---|\n",
       "| 1 | B  | A  | 0.162 | AB- |\n",
       "| 1 | US | A  | 0.276 | AB- |\n",
       "| 1 | A  | B  | 0.162 | AB- |\n",
       "| 1 | US | B  | 0.000 | AB- |\n",
       "| 1 | A  | US | 0.138 | AB- |\n",
       "| 1 | B  | US | 0.000 | AB- |\n",
       "\n"
      ],
      "text/plain": [
       "  trial s1 s2 str   trialtype\n",
       "1 1     B  A  0.162 AB-      \n",
       "2 1     US A  0.276 AB-      \n",
       "3 1     A  B  0.162 AB-      \n",
       "4 1     US B  0.000 AB-      \n",
       "5 1     A  US 0.138 AB-      \n",
       "6 1     B  US 0.000 AB-      "
      ]
     },
     "metadata": {},
     "output_type": "display_data"
    }
   ],
   "source": [
    "sals <- c(.3, .3, .6)\n",
    "cons <- 1/sals\n",
    "\n",
    "replicateHEIDI <- function(iters, fcall){\n",
    "  return(apply(replicate(iters, fcall()), c(1, 2, 3), 'mean'))\n",
    "}\n",
    "pav_in_dat <- replicateHEIDI(100, function() trainHEIDI(sals, cons, w = genWeights(c('A', 'B', 'US')), trialF(), trialmat))\n",
    "pav_in_dat <- parseW(pav_in_dat, trialmat, trialF())\n",
    "head(pav_in_dat)"
   ]
  },
  {
   "cell_type": "markdown",
   "id": "cda4599e",
   "metadata": {},
   "source": [
    "Now we can plot stuff we really care about. For example, the activation of the US representation as a function of training for each trial type, or as a function of each stimulus."
   ]
  },
  {
   "cell_type": "code",
   "execution_count": 12,
   "id": "3f4dd21d",
   "metadata": {
    "vscode": {
     "languageId": "r"
    }
   },
   "outputs": [
    {
     "name": "stderr",
     "output_type": "stream",
     "text": [
      "\u001b[1m\u001b[22m`summarise()` has grouped output by 'trial'. You can override using the\n",
      "`.groups` argument.\n",
      "\u001b[1m\u001b[22m`summarise()` has grouped output by 'trial'. You can override using the\n",
      "`.groups` argument.\n"
     ]
    },
    {
     "data": {
      "image/png": "[encoded data removed]",
      "text/plain": [
       "plot without title"
      ]
     },
     "metadata": {
      "image/png": {
       "height": 420,
       "width": 420
      }
     },
     "output_type": "display_data"
    }
   ],
   "source": [
    "#C is the US\n",
    "US_by_trial <- pav_in_dat %>% filter(s2 == 'US') %>% \n",
    "  rowwise() %>% filter(grepl(s1, trialtype)) %>% group_by(trial, trialtype) %>%\n",
    "  summarise(str = sum(str)) %>% ggplot(aes(x = trial, y = str, colour = trialtype)) + \n",
    "  geom_line() + geom_point() + coord_cartesian(ylim = c(-1, 1)) + labs(title = 'By Trial')\n",
    "US_by_stim <- pav_in_dat %>% filter(s2 == 'US') %>%\n",
    "  group_by(trial, s1) %>% \n",
    "  summarise(str = sum(str)) %>% ggplot(aes(x = trial, y = str, colour = s1)) + \n",
    "  geom_line() + geom_point() + coord_cartesian(ylim = c(-1, 1)) + labs(title = 'By Stimulus')\n",
    "US_by_trial + US_by_stim + plot_annotation(title = 'Predicted US strength')\n",
    "\n"
   ]
  },
  {
   "cell_type": "markdown",
   "id": "47f819f8",
   "metadata": {},
   "source": [
    "A neat property of the model is that it assumes that all the stimuli associate with each other. This includes \"backward\" US-CS associations. We can visualize those, too. Here, let's focus on A as predicted by each trial type and by each stimulus (they should be the same)."
   ]
  },
  {
   "cell_type": "code",
   "execution_count": 13,
   "id": "9f83967c",
   "metadata": {
    "vscode": {
     "languageId": "r"
    }
   },
   "outputs": [
    {
     "name": "stderr",
     "output_type": "stream",
     "text": [
      "\u001b[1m\u001b[22m`summarise()` has grouped output by 'trial'. You can override using the\n",
      "`.groups` argument.\n",
      "\u001b[1m\u001b[22m`summarise()` has grouped output by 'trial'. You can override using the\n",
      "`.groups` argument.\n"
     ]
    },
    {
     "data": {
      "image/png": "[encoded data removed]",
      "text/plain": [
       "plot without title"
      ]
     },
     "metadata": {
      "image/png": {
       "height": 420,
       "width": 420
      }
     },
     "output_type": "display_data"
    }
   ],
   "source": [
    "A_by_trial <- pav_in_dat %>% filter(s2 == 'A') %>% \n",
    "  rowwise() %>% filter((s1 == 'B' & trialtype == 'AB-') | (s1 == 'US' & trialtype == 'A+')) %>% \n",
    "  group_by(trial, trialtype) %>%\n",
    "  summarise(str = sum(str)) %>% ggplot(aes(x = trial, y = str, colour = trialtype)) + \n",
    "  geom_line() + geom_point() + coord_cartesian(ylim = c(-1, 1)) + labs(title = 'By Trial')\n",
    "A_by_stim <- pav_in_dat %>% filter(s2 == 'A') %>%\n",
    "  group_by(trial, s1) %>% \n",
    "  summarise(str = sum(str)) %>%\n",
    "  ggplot(aes(x = trial, y = str, colour = s1)) + \n",
    "  geom_line() + geom_point() + coord_cartesian(ylim = c(-1, 1)) + labs(title = 'By Stimulus')\n",
    "A_by_trial + A_by_stim + plot_annotation(title = 'Predicted A strength')"
   ]
  },
  {
   "cell_type": "markdown",
   "id": "9d5ae32e",
   "metadata": {},
   "source": [
    "Note the lack of competition between B and the US; they never appear together. Note also how the US develops strength faster than B; the saliency of the US is larger than that of B.\n",
    "\n",
    "# Relative Validity\n",
    "\n",
    "One of the classic findings in Pavlovian conditioning stipulates that the response to $A$ is weaker if trained in an $AB+/AC-$ (true) discrimination than if trained in a $AB\\pm/AC\\pm$ (pseudo) discrimination.\n",
    "\n",
    "Create the trials and set the relevant parameters."
   ]
  },
  {
   "cell_type": "code",
   "execution_count": 14,
   "id": "dcf31dee",
   "metadata": {
    "lines_to_next_cell": 0,
    "vscode": {
     "languageId": "r"
    }
   },
   "outputs": [
    {
     "data": {
      "text/html": [
       "<table class=\"dataframe\">\n",
       "<caption>A matrix: 6 × 4 of type dbl</caption>\n",
       "<tbody>\n",
       "\t<tr><th scope=row>AB+</th><td>1</td><td>1</td><td>0</td><td>1</td></tr>\n",
       "\t<tr><th scope=row>AC-</th><td>1</td><td>0</td><td>1</td><td>0</td></tr>\n",
       "\t<tr><th scope=row>AB+</th><td>1</td><td>1</td><td>0</td><td>1</td></tr>\n",
       "\t<tr><th scope=row>AB+</th><td>1</td><td>1</td><td>0</td><td>1</td></tr>\n",
       "\t<tr><th scope=row>AC-</th><td>1</td><td>0</td><td>1</td><td>0</td></tr>\n",
       "\t<tr><th scope=row>AB+</th><td>1</td><td>1</td><td>0</td><td>1</td></tr>\n",
       "</tbody>\n",
       "</table>\n"
      ],
      "text/latex": [
       "A matrix: 6 × 4 of type dbl\n",
       "\\begin{tabular}{r|llll}\n",
       "\tAB+ & 1 & 1 & 0 & 1\\\\\n",
       "\tAC- & 1 & 0 & 1 & 0\\\\\n",
       "\tAB+ & 1 & 1 & 0 & 1\\\\\n",
       "\tAB+ & 1 & 1 & 0 & 1\\\\\n",
       "\tAC- & 1 & 0 & 1 & 0\\\\\n",
       "\tAB+ & 1 & 1 & 0 & 1\\\\\n",
       "\\end{tabular}\n"
      ],
      "text/markdown": [
       "\n",
       "A matrix: 6 × 4 of type dbl\n",
       "\n",
       "| AB+ | 1 | 1 | 0 | 1 |\n",
       "| AC- | 1 | 0 | 1 | 0 |\n",
       "| AB+ | 1 | 1 | 0 | 1 |\n",
       "| AB+ | 1 | 1 | 0 | 1 |\n",
       "| AC- | 1 | 0 | 1 | 0 |\n",
       "| AB+ | 1 | 1 | 0 | 1 |\n",
       "\n"
      ],
      "text/plain": [
       "    [,1] [,2] [,3] [,4]\n",
       "AB+ 1    1    0    1   \n",
       "AC- 1    0    1    0   \n",
       "AB+ 1    1    0    1   \n",
       "AB+ 1    1    0    1   \n",
       "AC- 1    0    1    0   \n",
       "AB+ 1    1    0    1   "
      ]
     },
     "metadata": {},
     "output_type": "display_data"
    },
    {
     "data": {
      "text/html": [
       "<table class=\"dataframe\">\n",
       "<caption>A matrix: 6 × 4 of type dbl</caption>\n",
       "<tbody>\n",
       "\t<tr><th scope=row>AB-</th><td>1</td><td>1</td><td>0</td><td>0</td></tr>\n",
       "\t<tr><th scope=row>AB-</th><td>1</td><td>1</td><td>0</td><td>0</td></tr>\n",
       "\t<tr><th scope=row>AC+</th><td>1</td><td>0</td><td>1</td><td>1</td></tr>\n",
       "\t<tr><th scope=row>AC-</th><td>1</td><td>0</td><td>1</td><td>0</td></tr>\n",
       "\t<tr><th scope=row>AC-</th><td>1</td><td>0</td><td>1</td><td>0</td></tr>\n",
       "\t<tr><th scope=row>AC-</th><td>1</td><td>0</td><td>1</td><td>0</td></tr>\n",
       "</tbody>\n",
       "</table>\n"
      ],
      "text/latex": [
       "A matrix: 6 × 4 of type dbl\n",
       "\\begin{tabular}{r|llll}\n",
       "\tAB- & 1 & 1 & 0 & 0\\\\\n",
       "\tAB- & 1 & 1 & 0 & 0\\\\\n",
       "\tAC+ & 1 & 0 & 1 & 1\\\\\n",
       "\tAC- & 1 & 0 & 1 & 0\\\\\n",
       "\tAC- & 1 & 0 & 1 & 0\\\\\n",
       "\tAC- & 1 & 0 & 1 & 0\\\\\n",
       "\\end{tabular}\n"
      ],
      "text/markdown": [
       "\n",
       "A matrix: 6 × 4 of type dbl\n",
       "\n",
       "| AB- | 1 | 1 | 0 | 0 |\n",
       "| AB- | 1 | 1 | 0 | 0 |\n",
       "| AC+ | 1 | 0 | 1 | 1 |\n",
       "| AC- | 1 | 0 | 1 | 0 |\n",
       "| AC- | 1 | 0 | 1 | 0 |\n",
       "| AC- | 1 | 0 | 1 | 0 |\n",
       "\n"
      ],
      "text/plain": [
       "    [,1] [,2] [,3] [,4]\n",
       "AB- 1    1    0    0   \n",
       "AB- 1    1    0    0   \n",
       "AC+ 1    0    1    1   \n",
       "AC- 1    0    1    0   \n",
       "AC- 1    0    1    0   \n",
       "AC- 1    0    1    0   "
      ]
     },
     "metadata": {},
     "output_type": "display_data"
    }
   ],
   "source": [
    "set.seed(1) #reproducibility\n",
    "#Note that the third column is now the C column. Fourth is the US.\n",
    "truemat <- rbind(c(1, 1, 0, 1),\n",
    "                  c(1, 0, 1, 0))\n",
    "rownames(truemat) <- c('AB+', 'AC-')\n",
    "truetrialsF <- function() sample(1:2, size = 40, replace = T)\n",
    "head(truemat[truetrialsF(), ])\n",
    "\n",
    "pseudomat <- rbind(c(1, 1, 0, 1),\n",
    "                   c(1, 1, 0, 0),\n",
    "                   c(1, 0, 1, 1),\n",
    "                   c(1, 0, 1, 0))\n",
    "rownames(pseudomat) <- c('AB+', 'AB-', 'AC+', 'AC-')\n",
    "pseudotrialsF <- function() sample(1:4, size = 40, replace = T)\n",
    "head(pseudomat[pseudotrialsF(), ])\n",
    "\n",
    "#And the parameters\n",
    "sals <- c(.3, .3, .3, .6)\n",
    "cons <- 1/sals\n"
   ]
  },
  {
   "cell_type": "markdown",
   "id": "1c91ddaa",
   "metadata": {},
   "source": [
    "Train the models, and put them together."
   ]
  },
  {
   "cell_type": "code",
   "execution_count": 15,
   "id": "d79dbc7c",
   "metadata": {
    "vscode": {
     "languageId": "r"
    }
   },
   "outputs": [],
   "source": [
    "truemod <- replicateHEIDI(1000, function(){\n",
    "  trainHEIDI(sals, cons, w = genWeights(c('A', 'B', 'C', 'US')), truetrialsF(), truemat)\n",
    "  }\n",
    ")\n",
    "pseudomod <- replicateHEIDI(1000, function(){ \n",
    "  trainHEIDI(sals, cons, w = genWeights(c('A', 'B', 'C', 'US')),pseudotrialsF(), pseudomat)\n",
    "  }\n",
    ")\n",
    "truedat <- parseW(truemod, truetrialsF(), truemat)\n",
    "pseudodat <- parseW(pseudomod, pseudotrialsF(), pseudomat)\n",
    "\n",
    "truedat$cond <- 'true'\n",
    "pseudodat$cond <- 'pseudo'\n",
    "fulldat <- rbind(truedat, pseudodat)\n",
    "fulldat$cond <- factor(fulldat$cond, levels = c('true', 'pseudo'))"
   ]
  },
  {
   "cell_type": "markdown",
   "id": "1fb6f0f0",
   "metadata": {},
   "source": [
    "Now we can plot the associative strength of $A$. Note that Honey et al. also raise an important point: in HeiDI, the relative validity effect depends on the associations that $A$ forms with $B$ and $C$."
   ]
  },
  {
   "cell_type": "code",
   "execution_count": 16,
   "id": "c6118e06",
   "metadata": {
    "vscode": {
     "languageId": "r"
    }
   },
   "outputs": [
    {
     "data": {
      "image/png": "[encoded data removed]",
      "text/plain": [
       "plot without title"
      ]
     },
     "metadata": {
      "image/png": {
       "height": 420,
       "width": 420
      }
     },
     "output_type": "display_data"
    }
   ],
   "source": [
    "#D is the US\n",
    "US_plot <- fulldat %>% filter(s2 == 'US') %>% \n",
    "  ggplot(aes(x = trial, y = str, colour = s1)) + \n",
    "  geom_line() + geom_point() + \n",
    "  coord_cartesian(ylim = c(-1, 1)) +\n",
    "  labs(title = 'US by stimulus') + facet_wrap(~cond)\n",
    "CS_plot <- fulldat %>% filter(s2 %in% c('B', 'C') & s1 == 'A') %>% \n",
    "  ggplot(aes(x = trial, y = str, colour = s2)) + \n",
    "  geom_line() + geom_point() + \n",
    "  coord_cartesian(ylim = c(-1, 1)) +\n",
    "  labs(title = 'CSs by A') + facet_wrap(~cond)\n",
    "US_plot / CS_plot + plot_annotation(title = 'Relative Validity')"
   ]
  },
  {
   "cell_type": "markdown",
   "id": "1d7094ea",
   "metadata": {},
   "source": [
    "Note the slightly higher excitatory strength for A (top-right panel).\n",
    "\n",
    "The reason for why the CS associations with A make a difference is quite neat, although not easy to wrap our heads around. I'll try to unwrap the ideas the authors present here. The authors first call attention to the backward association between the US and A in both conditions. Let's look at it."
   ]
  },
  {
   "cell_type": "code",
   "execution_count": 17,
   "id": "1a6bc8f6",
   "metadata": {
    "vscode": {
     "languageId": "r"
    }
   },
   "outputs": [
    {
     "data": {
      "image/png": "[encoded data removed]",
      "text/plain": [
       "plot without title"
      ]
     },
     "metadata": {
      "image/png": {
       "height": 420,
       "width": 420
      }
     },
     "output_type": "display_data"
    }
   ],
   "source": [
    "fulldat %>% filter(s1 == 'US' & s2 == 'A') %>% \n",
    "  ggplot(aes(x = trial, y = str, colour = cond)) + \n",
    "  geom_line() + geom_point() + labs(title = 'A by US')"
   ]
  },
  {
   "cell_type": "markdown",
   "id": "eda1bec5",
   "metadata": {},
   "source": [
    "As expected, the backward association is stronger in the true discrimination group. So, the authors propose that both forward and backward associations \"boost\" each other. They propose that the combined strength $v_{combined}$ for stimulus $k$ as predicted by stimulus $j$, is:\n",
    "\n",
    "$$v_{combined(k|j)} = v_{k|j} + \\frac{v_{k|j} \\times v_{j|k}}{c_k} $$\n",
    "\n",
    "where $v_{k|j}$ is the strength of the presentation of $k$ given $j$ and $v_{k|j}$ is the strength of the representation of $j$ given $k$. Based on this combination rule, HeiDI predicts stronger responding to A in the true discrimination condition, which is empirically incorrect. Let's look at it."
   ]
  },
  {
   "cell_type": "code",
   "execution_count": 18,
   "id": "66028e28",
   "metadata": {
    "vscode": {
     "languageId": "r"
    }
   },
   "outputs": [
    {
     "data": {
      "image/png": "[encoded data removed]",
      "text/plain": [
       "plot without title"
      ]
     },
     "metadata": {
      "image/png": {
       "height": 420,
       "width": 420
      }
     },
     "output_type": "display_data"
    }
   ],
   "source": [
    "#Create a function to get the combined strength for any two stimuli.\n",
    ".combV <- function(w, s1, s2, c2){\n",
    "  #w is a weight matrix, s1 and s2 are stimuli; c2 is the constant for s2\n",
    "  return(w[s1, s2] + (w[s1, s2]*w[s2, s1]/c2))\n",
    "}\n",
    "#The function is meant to be used with the model weights. So let's create a convenience function.\n",
    "combMod <- function(modw, s1, s2, c2){\n",
    "  return(apply(modw, 1, function(w) .combV(w, s1, s2, c2)))\n",
    "}\n",
    "#combMod(truemod, 'A', 'US', cons[4])\n",
    "combdat <- tibble(cond = c('true', 'pseudo'), mod = list(truemod, pseudomod)) %>%\n",
    "  rowwise() %>% mutate(cv = list(enframe(combMod(mod, 'A', 'US', cons[4]), \n",
    "                                            name = 'trial', value = 'str'))) %>%\n",
    "  select(-mod) %>% unnest(cv)\n",
    "combdat$cond <- factor(combdat$cond, levels = c('true', 'pseudo'))\n",
    "\n",
    "combdat %>% ggplot(aes(x = trial, y = str, colour = cond)) + \n",
    "  geom_line() + geom_point() + labs(title = 'Combined V for A')\n"
   ]
  },
  {
   "cell_type": "markdown",
   "id": "407bbbe7",
   "metadata": {},
   "source": [
    "Yup, there it is. Look at how unstable the function for the pseudo condition is. The US-A association changes pretty fast throughout training.\n",
    "\n",
    "The authors solve this problem by positing that A can borrow associative strength from B and C. This means for any two stimuli $j$ and $k$, the representation of $k$ is further activated by the product of the associations that $j$ has with other stimuli, and the associations that those stimuli have with $k$. Formally:\n",
    "\n",
    "$$ v_{chain(k|j)} = \\sum_{i\\neq j}{\\frac{v_{i|j} \\times v_{combined(k|i)}}{c_k}}$$\n",
    "\n",
    "where $i$ are all the stimuli other than $j$. Let's implement it."
   ]
  },
  {
   "cell_type": "code",
   "execution_count": 19,
   "id": "67b1e258",
   "metadata": {
    "vscode": {
     "languageId": "r"
    }
   },
   "outputs": [],
   "source": [
    ".chainV <- function(w, s1, s2, c2){\n",
    "  chain_s = setdiff(rownames(w), c(s1, s2)) #larger set is always first\n",
    "  chain_v = 0\n",
    "  chain_v = chain_v + sum(sapply(chain_s, function(x) w[s1, x]*.combV(w, x, s2, c2)/c2)) \n",
    "  #note the call to .combV above\n",
    "  return(chain_v)\n",
    "}\n",
    "#The function is meant to be used with the model weights. So let's create a convenience function.\n",
    "chainMod <- function(modw, s1, s2, c2){\n",
    "  return(apply(modw, 1, function(w) .chainV(w, s1, s2, c2)))\n",
    "}\n",
    "#chainMod(truemod, 'A', 'US', cons[4])"
   ]
  },
  {
   "cell_type": "markdown",
   "id": "3e9c58d4",
   "metadata": {},
   "source": [
    "There are probably faster ways to write the function above, but let's move on. Let's calculate the the chained associative strength for A in both conditions."
   ]
  },
  {
   "cell_type": "code",
   "execution_count": 20,
   "id": "877f197d",
   "metadata": {
    "vscode": {
     "languageId": "r"
    }
   },
   "outputs": [
    {
     "data": {
      "image/png": "[encoded data removed]",
      "text/plain": [
       "plot without title"
      ]
     },
     "metadata": {
      "image/png": {
       "height": 420,
       "width": 420
      }
     },
     "output_type": "display_data"
    }
   ],
   "source": [
    "\n",
    "chaindat <- tibble(cond = c('true', 'pseudo'), mod = list(truemod, pseudomod)) %>%\n",
    "  rowwise() %>% mutate(cv = list(enframe(chainMod(mod, 'A', 'US', cons[4]), \n",
    "                                            name = 'trial', value = 'str'))) %>%\n",
    "  select(-mod) %>% unnest(cv)\n",
    "chaindat$cond <- factor(combdat$cond, levels = c('true', 'pseudo'))\n",
    "\n",
    "chaindat %>% ggplot(aes(x = trial, y = str, colour = cond)) + \n",
    "  geom_line() + geom_point() + labs(title = 'Chained V for A')\n"
   ]
  },
  {
   "cell_type": "markdown",
   "id": "ee1a4e00",
   "metadata": {},
   "source": [
    "The chained associative strength comes to the rescue. Here's a plot of $v_{total}$ for A (i.e., $v_{combined} + v_{chained}$)"
   ]
  },
  {
   "cell_type": "code",
   "execution_count": 21,
   "id": "4911044a",
   "metadata": {
    "vscode": {
     "languageId": "r"
    }
   },
   "outputs": [
    {
     "data": {
      "image/png": "[encoded data removed]",
      "text/plain": [
       "plot without title"
      ]
     },
     "metadata": {
      "image/png": {
       "height": 420,
       "width": 420
      }
     },
     "output_type": "display_data"
    }
   ],
   "source": [
    "combdat %>% mutate(str = str + chaindat$str) %>% ggplot(aes(x = trial, y = str, colour = cond)) + \n",
    "  geom_line() + geom_point() + labs('Total V for A')\n",
    "\n"
   ]
  },
  {
   "cell_type": "markdown",
   "id": "010b6bef",
   "metadata": {},
   "source": [
    "And that's how HeiDI explains the relative validity effect (I think?). There are plenty of other points the authors address, but they are all orthogonal to the model architecture. This is good enough for me to build an intuition; now if only I could go to the alps."
   ]
  }
 ],
 "metadata": {
  "jupytext": {
   "cell_metadata_filter": "warning,include,message,-all",
   "main_language": "R",
   "notebook_metadata_filter": "-all"
  },
  "kernelspec": {
   "display_name": "R",
   "language": "R",
   "name": "ir"
  },
  "language_info": {
   "codemirror_mode": "r",
   "file_extension": ".r",
   "mimetype": "text/x-r-source",
   "name": "R",
   "pygments_lexer": "r",
   "version": "4.2.2"
  }
 },
 "nbformat": 4,
 "nbformat_minor": 5
}
